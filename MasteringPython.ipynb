{
 "cells": [
  {
   "cell_type": "markdown",
   "metadata": {},
   "source": [
    "# Starting Up"
   ]
  },
  {
   "cell_type": "code",
   "execution_count": 1,
   "metadata": {},
   "outputs": [
    {
     "name": "stdout",
     "output_type": "stream",
     "text": [
      "Hello Python\n"
     ]
    }
   ],
   "source": [
    "print(\"Hello Python\")"
   ]
  },
  {
   "cell_type": "code",
   "execution_count": 2,
   "metadata": {},
   "outputs": [
    {
     "name": "stdout",
     "output_type": "stream",
     "text": [
      "11\n"
     ]
    }
   ],
   "source": [
    "x=3\n",
    "y=8\n",
    "print(x+y)"
   ]
  },
  {
   "cell_type": "markdown",
   "metadata": {},
   "source": [
    "# Variables"
   ]
  },
  {
   "cell_type": "code",
   "execution_count": 3,
   "metadata": {},
   "outputs": [],
   "source": [
    "x = 3"
   ]
  },
  {
   "cell_type": "code",
   "execution_count": 4,
   "metadata": {},
   "outputs": [
    {
     "name": "stdout",
     "output_type": "stream",
     "text": [
      "Variable   Type    Data/Info\n",
      "----------------------------\n",
      "x          int     3\n",
      "y          int     8\n"
     ]
    }
   ],
   "source": [
    "%whos"
   ]
  },
  {
   "cell_type": "code",
   "execution_count": 5,
   "metadata": {},
   "outputs": [],
   "source": [
    "x = 256.36\n"
   ]
  },
  {
   "cell_type": "code",
   "execution_count": 6,
   "metadata": {},
   "outputs": [
    {
     "name": "stdout",
     "output_type": "stream",
     "text": [
      "Variable   Type     Data/Info\n",
      "-----------------------------\n",
      "x          float    256.36\n",
      "y          int      8\n"
     ]
    }
   ],
   "source": [
    "%whos"
   ]
  },
  {
   "cell_type": "code",
   "execution_count": 7,
   "metadata": {},
   "outputs": [],
   "source": [
    "q,w,e,r,t,y = 3,2.5,8,6.3,8,5"
   ]
  },
  {
   "cell_type": "code",
   "execution_count": 8,
   "metadata": {},
   "outputs": [
    {
     "name": "stdout",
     "output_type": "stream",
     "text": [
      "Variable   Type     Data/Info\n",
      "-----------------------------\n",
      "e          int      8\n",
      "q          int      3\n",
      "r          float    6.3\n",
      "t          int      8\n",
      "w          float    2.5\n",
      "x          float    256.36\n",
      "y          int      5\n"
     ]
    }
   ],
   "source": [
    "%whos"
   ]
  },
  {
   "cell_type": "markdown",
   "metadata": {},
   "source": [
    "# Comparisions"
   ]
  },
  {
   "cell_type": "code",
   "execution_count": 9,
   "metadata": {},
   "outputs": [
    {
     "name": "stdout",
     "output_type": "stream",
     "text": [
      "True\n"
     ]
    }
   ],
   "source": [
    "print(2<3)"
   ]
  },
  {
   "cell_type": "code",
   "execution_count": 10,
   "metadata": {},
   "outputs": [
    {
     "name": "stdout",
     "output_type": "stream",
     "text": [
      "<class 'bool'>\n"
     ]
    }
   ],
   "source": [
    "c = 2<3\n",
    "print(type(c))"
   ]
  },
  {
   "cell_type": "code",
   "execution_count": 11,
   "metadata": {},
   "outputs": [
    {
     "name": "stdout",
     "output_type": "stream",
     "text": [
      "True\n"
     ]
    }
   ],
   "source": [
    "print(c)"
   ]
  },
  {
   "cell_type": "code",
   "execution_count": 12,
   "metadata": {},
   "outputs": [
    {
     "name": "stdout",
     "output_type": "stream",
     "text": [
      "False\n"
     ]
    }
   ],
   "source": [
    "d = 3==4\n",
    "print(d)"
   ]
  },
  {
   "cell_type": "code",
   "execution_count": 13,
   "metadata": {},
   "outputs": [
    {
     "name": "stdout",
     "output_type": "stream",
     "text": [
      "True\n"
     ]
    }
   ],
   "source": [
    "d = 3==3.0\n",
    "print(d)"
   ]
  },
  {
   "cell_type": "code",
   "execution_count": 14,
   "metadata": {},
   "outputs": [
    {
     "data": {
      "text/plain": [
       "True"
      ]
     },
     "execution_count": 14,
     "metadata": {},
     "output_type": "execute_result"
    }
   ],
   "source": [
    "x = 4\n",
    "y = 9\n",
    "z = 8.3\n",
    "r = -3\n",
    "(x<y) and (z<y) or (r==x)"
   ]
  },
  {
   "cell_type": "code",
   "execution_count": 16,
   "metadata": {},
   "outputs": [
    {
     "data": {
      "text/plain": [
       "True"
      ]
     },
     "execution_count": 16,
     "metadata": {},
     "output_type": "execute_result"
    }
   ],
   "source": [
    "(x<y) and (r==x) or (z<y)"
   ]
  },
  {
   "cell_type": "code",
   "execution_count": 17,
   "metadata": {},
   "outputs": [
    {
     "data": {
      "text/plain": [
       "False"
      ]
     },
     "execution_count": 17,
     "metadata": {},
     "output_type": "execute_result"
    }
   ],
   "source": [
    "not((x<y) and (r==x) or (z<y))"
   ]
  },
  {
   "cell_type": "code",
   "execution_count": 18,
   "metadata": {},
   "outputs": [
    {
     "data": {
      "text/plain": [
       "True"
      ]
     },
     "execution_count": 18,
     "metadata": {},
     "output_type": "execute_result"
    }
   ],
   "source": [
    "True or False and True"
   ]
  },
  {
   "cell_type": "code",
   "execution_count": 19,
   "metadata": {},
   "outputs": [
    {
     "data": {
      "text/plain": [
       "False"
      ]
     },
     "execution_count": 19,
     "metadata": {},
     "output_type": "execute_result"
    }
   ],
   "source": [
    "False or False and True"
   ]
  },
  {
   "cell_type": "code",
   "execution_count": 20,
   "metadata": {},
   "outputs": [
    {
     "name": "stdout",
     "output_type": "stream",
     "text": [
      "False\n"
     ]
    }
   ],
   "source": [
    "print((not(2!=3) and True) or (False and True))"
   ]
  },
  {
   "cell_type": "code",
   "execution_count": 21,
   "metadata": {},
   "outputs": [
    {
     "name": "stdout",
     "output_type": "stream",
     "text": [
      "8\n"
     ]
    }
   ],
   "source": [
    "print(round(z))"
   ]
  },
  {
   "cell_type": "code",
   "execution_count": 22,
   "metadata": {},
   "outputs": [
    {
     "name": "stdout",
     "output_type": "stream",
     "text": [
      "4.56\n"
     ]
    }
   ],
   "source": [
    "print(round(4.556,2))"
   ]
  },
  {
   "cell_type": "code",
   "execution_count": 24,
   "metadata": {
    "scrolled": true
   },
   "outputs": [
    {
     "name": "stdout",
     "output_type": "stream",
     "text": [
      "(2, 1)\n"
     ]
    }
   ],
   "source": [
    "print(divmod(y, x))"
   ]
  },
  {
   "cell_type": "code",
   "execution_count": 25,
   "metadata": {},
   "outputs": [
    {
     "data": {
      "text/plain": [
       "(3, 7)"
      ]
     },
     "execution_count": 25,
     "metadata": {},
     "output_type": "execute_result"
    }
   ],
   "source": [
    "divmod(34,9)"
   ]
  },
  {
   "cell_type": "code",
   "execution_count": 26,
   "metadata": {},
   "outputs": [],
   "source": [
    "H = divmod(34,9)"
   ]
  },
  {
   "cell_type": "code",
   "execution_count": 27,
   "metadata": {},
   "outputs": [
    {
     "name": "stdout",
     "output_type": "stream",
     "text": [
      "3\n"
     ]
    }
   ],
   "source": [
    "print(H[0])"
   ]
  },
  {
   "cell_type": "code",
   "execution_count": 28,
   "metadata": {},
   "outputs": [
    {
     "data": {
      "text/plain": [
       "True"
      ]
     },
     "execution_count": 28,
     "metadata": {},
     "output_type": "execute_result"
    }
   ],
   "source": [
    "isinstance(3,int)"
   ]
  },
  {
   "cell_type": "code",
   "execution_count": 29,
   "metadata": {},
   "outputs": [
    {
     "data": {
      "text/plain": [
       "False"
      ]
     },
     "execution_count": 29,
     "metadata": {},
     "output_type": "execute_result"
    }
   ],
   "source": [
    "isinstance(e,float)"
   ]
  },
  {
   "cell_type": "code",
   "execution_count": 32,
   "metadata": {},
   "outputs": [
    {
     "data": {
      "text/plain": [
       "0.0013717421124828531"
      ]
     },
     "execution_count": 32,
     "metadata": {},
     "output_type": "execute_result"
    }
   ],
   "source": [
    "pow(y,r)"
   ]
  },
  {
   "cell_type": "code",
   "execution_count": 33,
   "metadata": {},
   "outputs": [
    {
     "data": {
      "text/plain": [
       "25"
      ]
     },
     "execution_count": 33,
     "metadata": {},
     "output_type": "execute_result"
    }
   ],
   "source": [
    "pow(5,2)"
   ]
  },
  {
   "cell_type": "code",
   "execution_count": 35,
   "metadata": {},
   "outputs": [
    {
     "name": "stdout",
     "output_type": "stream",
     "text": [
      "Say something: idk\n"
     ]
    }
   ],
   "source": [
    "a = input(\"Say something: \")"
   ]
  },
  {
   "cell_type": "code",
   "execution_count": 36,
   "metadata": {},
   "outputs": [
    {
     "data": {
      "text/plain": [
       "str"
      ]
     },
     "execution_count": 36,
     "metadata": {},
     "output_type": "execute_result"
    }
   ],
   "source": [
    "type(a)"
   ]
  },
  {
   "cell_type": "code",
   "execution_count": 37,
   "metadata": {},
   "outputs": [
    {
     "name": "stdout",
     "output_type": "stream",
     "text": [
      "<class 'int'>\n"
     ]
    }
   ],
   "source": [
    "x = int(x)\n",
    "print(type(x))"
   ]
  },
  {
   "cell_type": "code",
   "execution_count": null,
   "metadata": {},
   "outputs": [
    {
     "ename": "Error",
     "evalue": "Jupyter cannot be started. Error attempting to locate jupyter: Running cells with 'Python 3.8.10 64-bit' requires notebook and jupyter.",
     "output_type": "error",
     "traceback": [
      "Error: Jupyter cannot be started. Error attempting to locate jupyter: Running cells with 'Python 3.8.10 64-bit' requires notebook and jupyter.",
      "at S.startServer (/home/harsh/.vscode/extensions/ms-toolsai.jupyter-2021.8.1054968649/out/client/extension.js:54:407616)",
      "at async S.createServer (/home/harsh/.vscode/extensions/ms-toolsai.jupyter-2021.8.1054968649/out/client/extension.js:54:406911)",
      "at async connect (/home/harsh/.vscode/extensions/ms-toolsai.jupyter-2021.8.1054968649/out/client/extension.js:90:178767)",
      "at async D.ensureConnectionAndNotebookImpl (/home/harsh/.vscode/extensions/ms-toolsai.jupyter-2021.8.1054968649/out/client/extension.js:37:650844)",
      "at async D.ensureConnectionAndNotebook (/home/harsh/.vscode/extensions/ms-toolsai.jupyter-2021.8.1054968649/out/client/extension.js:37:649073)",
      "at async D.clearResult (/home/harsh/.vscode/extensions/ms-toolsai.jupyter-2021.8.1054968649/out/client/extension.js:37:644735)",
      "at async D.reexecuteCell (/home/harsh/.vscode/extensions/ms-toolsai.jupyter-2021.8.1054968649/out/client/extension.js:37:631000)",
      "at async D.reexecuteCells (/home/harsh/.vscode/extensions/ms-toolsai.jupyter-2021.8.1054968649/out/client/extension.js:37:627459)"
     ]
    }
   ],
   "source": [
    "not(True)"
   ]
  },
  {
   "cell_type": "code",
   "execution_count": 39,
   "metadata": {},
   "outputs": [
    {
     "name": "stdout",
     "output_type": "stream",
     "text": [
      "any integer: 56\n"
     ]
    }
   ],
   "source": [
    "a = int(input(\"any integer: \"))"
   ]
  },
  {
   "cell_type": "code",
   "execution_count": 41,
   "metadata": {},
   "outputs": [
    {
     "name": "stdout",
     "output_type": "stream",
     "text": [
      "int 1: 6\n",
      "int 2: 90\n",
      "Sum =  96\n"
     ]
    }
   ],
   "source": [
    "a = int(input(\"int 1: \"))\n",
    "b = int(input(\"int 2: \"))\n",
    "c = a + b\n",
    "print(\"Sum = \",c)"
   ]
  },
  {
   "cell_type": "code",
   "execution_count": 1,
   "metadata": {},
   "outputs": [],
   "source": [
    "pow?"
   ]
  },
  {
   "cell_type": "markdown",
   "metadata": {},
   "source": [
    "# Control flow"
   ]
  },
  {
   "cell_type": "code",
   "execution_count": 4,
   "metadata": {},
   "outputs": [
    {
     "name": "stdout",
     "output_type": "stream",
     "text": [
      "56\n",
      "23\n",
      "a is greater than b\n"
     ]
    }
   ],
   "source": [
    "a = int(input())\n",
    "b = int(input())\n",
    "if b > a:\n",
    "    print(\"b is greater than a\")\n",
    "else:\n",
    "    print(\"a is greater than b\")"
   ]
  },
  {
   "cell_type": "code",
   "execution_count": 6,
   "metadata": {
    "scrolled": true
   },
   "outputs": [
    {
     "name": "stdout",
     "output_type": "stream",
     "text": [
      "34\n",
      "45\n",
      "B is greater than A\n"
     ]
    }
   ],
   "source": [
    "a = int(input())\n",
    "b = int(input())\n",
    "if b > a:\n",
    "    print(\"B is greater than A\")\n",
    "elif b == a:\n",
    "    print(\"A and B are equal\")\n",
    "else:\n",
    "    print(\"A is greater than B\")\n"
   ]
  },
  {
   "cell_type": "code",
   "execution_count": 7,
   "metadata": {
    "scrolled": true
   },
   "outputs": [
    {
     "name": "stdout",
     "output_type": "stream",
     "text": [
      "Enter Marks : 78\n",
      "B grade\n"
     ]
    }
   ],
   "source": [
    "a = int(input(\"Enter Marks : \"))\n",
    "if a >= 85:\n",
    "    print(\"A grade\")\n",
    "elif (a < 85) and (a > 80):\n",
    "    print(\"A- grade\")\n",
    "elif (a < 80) and (a > 75):\n",
    "    print(\"B grade\")\n",
    "elif (a < 75) and (a > 70):\n",
    "    print(\"B- grade\")\n",
    "else:\n",
    "    print(\"below average\")"
   ]
  },
  {
   "cell_type": "code",
   "execution_count": 7,
   "metadata": {},
   "outputs": [
    {
     "name": "stdout",
     "output_type": "stream",
     "text": [
      "Enter a real number : -56.78\n",
      "-56\n"
     ]
    }
   ],
   "source": [
    "# single line comments\n",
    "\"\"\"\n",
    "User must enter a floating point number. Our task is to find out the integer portion\n",
    "and then check weather that interger portion is an even number or not?\n",
    "\"\"\"\n",
    "x = float(input(\"Enter a real number : \"))\n",
    "if x>0:\n",
    "    y = round(x)\n",
    "    if y>x:\n",
    "        intPortion = y-1\n",
    "    else:\n",
    "        intPortion = y\n",
    "elif x==0:\n",
    "    intPortion = 0\n",
    "else:\n",
    "    y = round(x)\n",
    "    if y<x:\n",
    "        intPortion = y+1\n",
    "    else:\n",
    "        intPortion = y\n",
    "print(intPortion)\n",
    "\n"
   ]
  },
  {
   "cell_type": "markdown",
   "metadata": {},
   "source": [
    "# Control flow: while Loops"
   ]
  },
  {
   "cell_type": "code",
   "execution_count": null,
   "metadata": {},
   "outputs": [],
   "source": [
    "n = int(input(\"Max number line up : \"))\n",
    "i = 1\n",
    "while i<n:\n",
    "    print(i)\n",
    "    i+=1\n",
    "print(\"done\")"
   ]
  },
  {
   "cell_type": "code",
   "execution_count": 1,
   "metadata": {},
   "outputs": [
    {
     "name": "stdout",
     "output_type": "stream",
     "text": [
      "Max number line up : 5\n",
      "2\n",
      "4\n",
      "done\n"
     ]
    }
   ],
   "source": [
    "n = int(input(\"Max number line up : \"))\n",
    "i = 1\n",
    "while i < n:\n",
    "    if i%2 ==0:\n",
    "        print(i)\n",
    "    else:\n",
    "        pass\n",
    "    i += 1\n",
    "print(\"done\")"
   ]
  },
  {
   "cell_type": "code",
   "execution_count": 4,
   "metadata": {},
   "outputs": [
    {
     "name": "stdout",
     "output_type": "stream",
     "text": [
      "Inside Else\n",
      "Inside Else\n",
      "Inside Else\n",
      "Inside Else\n",
      "Inside Else\n",
      "Inside Else\n",
      "Inside Else\n",
      "Inside Else\n",
      "Inside If\n",
      "Done\n"
     ]
    }
   ],
   "source": [
    "n = 20\n",
    "i = 1\n",
    "while True:\n",
    "    if i%9 ==0:\n",
    "        print(\"Inside If\")\n",
    "        break\n",
    "    else:\n",
    "        print(\"Inside Else\")\n",
    "        i = i+1\n",
    "print(\"Done\")"
   ]
  },
  {
   "cell_type": "markdown",
   "metadata": {},
   "source": [
    "# Control flow: For Loops"
   ]
  },
  {
   "cell_type": "code",
   "execution_count": 7,
   "metadata": {},
   "outputs": [
    {
     "name": "stdout",
     "output_type": "stream",
     "text": [
      "0\n",
      "2\n",
      "4\n",
      "6\n",
      "8\n",
      "[0, 4, 16, 36, 64]\n"
     ]
    }
   ],
   "source": [
    "L = [] # List\n",
    "for i in range(0,10,2):\n",
    "    print(i)\n",
    "    L.append(i**2)\n",
    "print(L)"
   ]
  },
  {
   "cell_type": "code",
   "execution_count": 7,
   "metadata": {},
   "outputs": [
    {
     "name": "stdout",
     "output_type": "stream",
     "text": [
      "cherry\n",
      "4.9\n",
      "Outside the loop\n"
     ]
    }
   ],
   "source": [
    "S = {\"apple\", 4.9, \"cherry\"}\n",
    "i = 1\n",
    "for x in S:\n",
    "    print(x)\n",
    "    i += 1\n",
    "    if i == 3:\n",
    "        break\n",
    "    else:\n",
    "        pass\n",
    "# else:\n",
    "#     print(\"Loop completes it's iterations\")\n",
    "print(\"Outside the loop\")"
   ]
  },
  {
   "cell_type": "markdown",
   "metadata": {},
   "source": [
    "# Control flow: Exploring a dictionary"
   ]
  },
  {
   "cell_type": "code",
   "execution_count": 8,
   "metadata": {},
   "outputs": [
    {
     "name": "stdout",
     "output_type": "stream",
     "text": [
      "Harsh 21\n",
      "Prats 19\n",
      "Esha 20\n",
      "Manit 20\n"
     ]
    }
   ],
   "source": [
    "D = {\"Harsh\":21, \"Prats\":19, \"Esha\":20, \"Manit\":20}\n",
    "# Here the name is the key, and the age is the value. \n",
    "for x in D:\n",
    "    print(x,D[x])"
   ]
  },
  {
   "cell_type": "code",
   "execution_count": 23,
   "metadata": {},
   "outputs": [
    {
     "name": "stdout",
     "output_type": "stream",
     "text": [
      "Enter a list without spaces153429867\n",
      "['1', '2', '3', '4', '5', '6', '7', '8', '9']\n"
     ]
    }
   ],
   "source": [
    "\"\"\"\n",
    "Given list of numbers i.e, [1,2,4,-5,7,9,3,2], make another list that contains all the items in sorted \n",
    "order from min to max i.e. your result should be a list like........\n",
    "\"\"\"\n",
    "L = list(input(\"Enter a list without spaces\"))\n",
    "for j in range(len(L)):\n",
    "    m = L[j]\n",
    "    idx = j\n",
    "    c = j\n",
    "    for i in range(j,len(L)):\n",
    "        if L[i]<m:\n",
    "            m = L[i]\n",
    "            idx = c\n",
    "        c += 1\n",
    "    tmp = L[j]\n",
    "    L[j] = m\n",
    "    L[idx] = tmp\n",
    "print(L)"
   ]
  },
  {
   "cell_type": "code",
   "execution_count": 14,
   "metadata": {},
   "outputs": [
    {
     "data": {
      "text/plain": [
       "[-5, 2, 4, 1, 7, 9, 3, 2]"
      ]
     },
     "execution_count": 14,
     "metadata": {},
     "output_type": "execute_result"
    }
   ],
   "source": [
    "L"
   ]
  },
  {
   "cell_type": "markdown",
   "metadata": {},
   "source": [
    "# Functions"
   ]
  },
  {
   "cell_type": "code",
   "execution_count": 24,
   "metadata": {},
   "outputs": [
    {
     "name": "stdout",
     "output_type": "stream",
     "text": [
      "the task was successful\n",
      "Moving to the next task\n",
      "Idk why this is necessary but three print statements look nice\n"
     ]
    }
   ],
   "source": [
    "def printSuccess():\n",
    "    print(\"the task was successful\")\n",
    "    print(\"Moving to the next task\")\n",
    "    print(\"Idk why this is necessary but three print statements look nice\")\n",
    "printSuccess()"
   ]
  },
  {
   "cell_type": "code",
   "execution_count": 25,
   "metadata": {},
   "outputs": [
    {
     "data": {
      "text/plain": [
       "0.25"
      ]
     },
     "execution_count": 25,
     "metadata": {},
     "output_type": "execute_result"
    }
   ],
   "source": [
    "1.5/6"
   ]
  },
  {
   "cell_type": "code",
   "execution_count": 26,
   "metadata": {},
   "outputs": [
    {
     "name": "stdout",
     "output_type": "stream",
     "text": [
      "the task was successful\n",
      "Moving to the next task\n",
      "Idk why this is necessary but three print statements look nice\n"
     ]
    }
   ],
   "source": [
    "printSuccess()"
   ]
  },
  {
   "cell_type": "code",
   "execution_count": 27,
   "metadata": {},
   "outputs": [
    {
     "name": "stdout",
     "output_type": "stream",
     "text": [
      "Object `def` not found.\n"
     ]
    }
   ],
   "source": [
    "def??"
   ]
  },
  {
   "cell_type": "code",
   "execution_count": 28,
   "metadata": {},
   "outputs": [],
   "source": [
    "def printSuccess2():\n",
    "    \"\"\"This function is doing nothing apart from printing a message.\n",
    "    That message is hello\n",
    "    \"\"\"\n",
    "    print(\"hello\")"
   ]
  },
  {
   "cell_type": "code",
   "execution_count": 31,
   "metadata": {},
   "outputs": [
    {
     "name": "stdout",
     "output_type": "stream",
     "text": [
      "Help on function printSuccess2 in module __main__:\n",
      "\n",
      "printSuccess2()\n",
      "    This function is doing nothing apart from printing a message.\n",
      "    That message is hello\n",
      "\n"
     ]
    }
   ],
   "source": [
    "help(printSuccess2)"
   ]
  },
  {
   "cell_type": "code",
   "execution_count": 37,
   "metadata": {},
   "outputs": [],
   "source": [
    "def divide(x,y):\n",
    "    # Divides the numbers\n",
    "    tmp = x/y\n",
    "    print(\"Upon dividing: \", tmp)"
   ]
  },
  {
   "cell_type": "code",
   "execution_count": 38,
   "metadata": {},
   "outputs": [
    {
     "name": "stdout",
     "output_type": "stream",
     "text": [
      "number 1: 3\n",
      "number 2: 2\n",
      "Upon dividing:  1.5\n"
     ]
    }
   ],
   "source": [
    "x = int(input(\"number 1: \"))\n",
    "y = int(input(\"number 2: \"))\n",
    "divide(x,y)"
   ]
  },
  {
   "cell_type": "code",
   "execution_count": 45,
   "metadata": {},
   "outputs": [],
   "source": [
    "def printMsg(msg):\n",
    "    \"\"\"\n",
    "    Store the message if it's a string\n",
    "    \"\"\"\n",
    "\n",
    "    if isinstance(msg, str):\n",
    "        print(msg)\n",
    "    else:\n",
    "        print(\"Your message isn't a string\")\n",
    "        print(\"Here's what you've supplied: \",type(msg))"
   ]
  },
  {
   "cell_type": "code",
   "execution_count": 51,
   "metadata": {},
   "outputs": [
    {
     "name": "stdout",
     "output_type": "stream",
     "text": [
      "enter a string: hey my name is something\n",
      "hey my name is something\n"
     ]
    }
   ],
   "source": [
    "S = str(input(\"enter a string: \"))\n",
    "printMsg(S)"
   ]
  },
  {
   "cell_type": "code",
   "execution_count": 50,
   "metadata": {},
   "outputs": [
    {
     "name": "stdout",
     "output_type": "stream",
     "text": [
      "Your message isn't a string\n",
      "Here's what you've supplied:  5676\n"
     ]
    }
   ],
   "source": [
    "printMsg(5676)"
   ]
  },
  {
   "cell_type": "code",
   "execution_count": null,
   "metadata": {},
   "outputs": [],
   "source": []
  }
 ],
 "metadata": {
  "kernelspec": {
   "display_name": "Python 3",
   "language": "python",
   "name": "python3"
  },
  "language_info": {
   "codemirror_mode": {
    "name": "ipython",
    "version": 3
   },
   "file_extension": ".py",
   "mimetype": "text/x-python",
   "name": "python",
   "nbconvert_exporter": "python",
   "pygments_lexer": "ipython3",
   "version": "3.8.5"
  }
 },
 "nbformat": 4,
 "nbformat_minor": 4
}
